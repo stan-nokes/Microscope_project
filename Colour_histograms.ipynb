{
 "cells": [
  {
   "cell_type": "code",
   "execution_count": null,
   "metadata": {
    "collapsed": false
   },
   "outputs": [],
   "source": [
    "import numpy as np\n",
    "import matplotlib as mpl\n",
    "import matplotlib.pyplot as plt\n",
    "%matplotlib inline\n",
    "import cv2\n",
    "mpl.rcParams['image.cmap'] = 'gray' # grey scale"
   ]
  },
  {
   "cell_type": "markdown",
   "metadata": {},
   "source": [
    "## Test image"
   ]
  },
  {
   "cell_type": "code",
   "execution_count": null,
   "metadata": {
    "collapsed": false
   },
   "outputs": [],
   "source": [
    "img_t2 = cv2.imread('testcol.jpeg')\n",
    "plt.imshow(img_t2)"
   ]
  },
  {
   "cell_type": "code",
   "execution_count": null,
   "metadata": {
    "collapsed": false
   },
   "outputs": [],
   "source": [
    "gray_image = cv2.cvtColor(img_t2, cv2.COLOR_BGR2GRAY)\n",
    "plt.imshow(gray_image)"
   ]
  },
  {
   "cell_type": "code",
   "execution_count": null,
   "metadata": {
    "collapsed": false
   },
   "outputs": [],
   "source": [
    "# Plots a histogram in RGB - error as image is grey scale\n",
    "img_t = gray_image\n",
    "color = ('b','g','r')\n",
    "plt.figure()\n",
    "for i,col in enumerate(color):\n",
    "    histr = cv2.calcHist([img_t],[i],None,[256],[0,256])\n",
    "    plt.plot(histr,color = col)\n",
    "    plt.xlim([0,256])\n",
    "plt.show()"
   ]
  },
  {
   "cell_type": "code",
   "execution_count": null,
   "metadata": {
    "collapsed": false
   },
   "outputs": [],
   "source": [
    "# Plots a histogram of number of pixels against pixel number - how black or white they are (black is 0)\n",
    "plt.hist(gray_image.ravel(),256,[0,256]); plt.show()"
   ]
  },
  {
   "cell_type": "markdown",
   "metadata": {},
   "source": [
    "## Microscope images"
   ]
  },
  {
   "cell_type": "code",
   "execution_count": null,
   "metadata": {
    "collapsed": true
   },
   "outputs": [],
   "source": [
    "Primo = cv2.imread('Primoim.jpeg')\n",
    "Apex = cv2.imread('Apexim.jpeg')\n",
    "My1 = cv2.imread('My1im.jpeg')"
   ]
  },
  {
   "cell_type": "code",
   "execution_count": null,
   "metadata": {
    "collapsed": true
   },
   "outputs": [],
   "source": [
    "gray_primo = cv2.cvtColor(Primo, cv2.COLOR_BGR2GRAY)\n",
    "gray_apex = cv2.cvtColor(Apex, cv2.COLOR_BGR2GRAY)\n",
    "gray_my1 = cv2.cvtColor(My1, cv2.COLOR_BGR2GRAY)"
   ]
  },
  {
   "cell_type": "code",
   "execution_count": null,
   "metadata": {
    "collapsed": false
   },
   "outputs": [],
   "source": [
    "plt.imshow(gray_my1)"
   ]
  },
  {
   "cell_type": "code",
   "execution_count": null,
   "metadata": {
    "collapsed": false
   },
   "outputs": [],
   "source": [
    "plt.hist(gray_primo.ravel(),256,[0,256], label = 'Primo')\n",
    "plt.hist(gray_apex.ravel(),256,[0,256], label = 'Apex')\n",
    "plt.hist(gray_my1.ravel(),256,[0,256], label = 'My 1st Lab')\n",
    "plt.xlabel('Pixel number')\n",
    "plt.ylabel('Number of pixels')\n",
    "plt.title('Evenness of background colour')\n",
    "plt.legend(prop={'size': 10})\n"
   ]
  },
  {
   "cell_type": "code",
   "execution_count": null,
   "metadata": {
    "collapsed": false
   },
   "outputs": [],
   "source": [
    "fig, ax = plt.subplots( nrows = 1, ncols = 3, figsize = (14, 5) )\n",
    "\n",
    "ax[0].hist(gray_primo.ravel(),256,[0,256])\n",
    "ax[0].set_ylim([0, 60000])\n",
    "ax[1].hist(gray_apex.ravel(),256,[0,256])\n",
    "ax[1].set_ylim([0, 60000])\n",
    "ax[2].hist(gray_my1.ravel(),256,[0,256])\n",
    "ax[2].set_ylim([0, 60000])\n",
    "\n",
    "ax[0].title.set_text('Primo Star')\n",
    "ax[1].title.set_text('Apex')\n",
    "ax[2].title.set_text('My 1st Lab')\n",
    "\n",
    "ax[0].set_xlabel('Pixel number')\n",
    "ax[1].set_xlabel('Pixel number')\n",
    "ax[2].set_xlabel('Pixel number')\n",
    "\n",
    "ax[0].set_ylabel('Number of pixels')\n",
    "#ax[1].set_ylabel('Number of pixels')\n",
    "#ax[2].set_ylabel('Number of pixels')"
   ]
  },
  {
   "cell_type": "code",
   "execution_count": null,
   "metadata": {
    "collapsed": false
   },
   "outputs": [],
   "source": [
    "plt.hist(gray_primo.ravel(),256,[0,256])\n",
    "\n",
    "plt.ylim([0, 60000])\n",
    "plt.title('Primo Star')\n",
    "plt.xlabel('Pixel number')\n",
    "plt.ylabel('Number of pixels')\n",
    "\n",
    "plt.show()"
   ]
  },
  {
   "cell_type": "code",
   "execution_count": null,
   "metadata": {
    "collapsed": false
   },
   "outputs": [],
   "source": [
    "plt.hist(gray_apex.ravel(),256,[0,256])\n",
    "\n",
    "plt.ylim([0, 60000])\n",
    "plt.title('Apex')\n",
    "plt.xlabel('Pixel number')\n",
    "plt.ylabel('Number of pixels')\n",
    "\n",
    "plt.show()"
   ]
  },
  {
   "cell_type": "code",
   "execution_count": null,
   "metadata": {
    "collapsed": false
   },
   "outputs": [],
   "source": [
    "plt.hist(gray_my1.ravel(),256,[0,256])\n",
    "\n",
    "plt.ylim([0, 60000])\n",
    "plt.title('My 1st Lab')\n",
    "plt.xlabel('Pixel number')\n",
    "plt.ylabel('Number of pixels')\n",
    "\n",
    "plt.show()"
   ]
  },
  {
   "cell_type": "code",
   "execution_count": null,
   "metadata": {
    "collapsed": true
   },
   "outputs": [],
   "source": []
  },
  {
   "cell_type": "code",
   "execution_count": null,
   "metadata": {
    "collapsed": true
   },
   "outputs": [],
   "source": []
  },
  {
   "cell_type": "code",
   "execution_count": null,
   "metadata": {
    "collapsed": true
   },
   "outputs": [],
   "source": []
  },
  {
   "cell_type": "code",
   "execution_count": null,
   "metadata": {
    "collapsed": true
   },
   "outputs": [],
   "source": []
  }
 ],
 "metadata": {
  "kernelspec": {
   "display_name": "Python [default]",
   "language": "python",
   "name": "python3"
  },
  "language_info": {
   "codemirror_mode": {
    "name": "ipython",
    "version": 3
   },
   "file_extension": ".py",
   "mimetype": "text/x-python",
   "name": "python",
   "nbconvert_exporter": "python",
   "pygments_lexer": "ipython3",
   "version": "3.5.2"
  }
 },
 "nbformat": 4,
 "nbformat_minor": 2
}
